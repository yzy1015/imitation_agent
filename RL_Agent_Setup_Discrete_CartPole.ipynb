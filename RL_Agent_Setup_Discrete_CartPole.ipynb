{
 "cells": [
  {
   "cell_type": "code",
   "execution_count": 1,
   "metadata": {
    "collapsed": true
   },
   "outputs": [],
   "source": [
    "import os.path, gym\n",
    "import numpy as np\n",
    "os.environ['TF_CPP_MIN_LOG_LEVEL'] = '3'\n",
    "import tensorflow as tf\n",
    "import roboschool\n",
    "from pathlib import Path"
   ]
  },
  {
   "cell_type": "markdown",
   "metadata": {},
   "source": [
    "# Policy Gradient with sum of total reward update"
   ]
  },
  {
   "cell_type": "code",
   "execution_count": 2,
   "metadata": {
    "collapsed": true
   },
   "outputs": [],
   "source": [
    "class learning_agent(object):\n",
    "    def __init__(self, env):\n",
    "        self.env = env\n",
    "        # agent memory\n",
    "        self.trajectory = [] # seq of state, union of state\n",
    "        self.reward_traj = []\n",
    "        self.action_traj = []\n",
    "        self.save_freq = 0\n",
    "        self.gamma = 1 # finite horizon so deacy can be 1\n",
    "        # agent data flow checking variable\n",
    "        self.mean_check = []\n",
    "        self.sig_check = []\n",
    "        # define network structure (state input and action output)\n",
    "        self.state, self.action =  self.build_net(self.env)\n",
    "        \n",
    "        self.action_tr = tf.placeholder(tf.float32, [None, 2])\n",
    "        self.total_reward = tf.placeholder(tf.float32, [None, 1])\n",
    "        \n",
    "        # discrete policy gradient opject defined\n",
    "        self.loss = tf.reduce_mean(-tf.log(self.action) * self.action_tr * self.total_reward)\n",
    "        self.optimizer = tf.train.AdamOptimizer(0.001).minimize(self.loss)\n",
    "        \n",
    "        # start session\n",
    "        self.sess = tf.Session()\n",
    "        self.saver=tf.train.Saver()\n",
    "        self.sess.run(tf.global_variables_initializer())\n",
    "        \n",
    "        # check nn memory existance\n",
    "        my_file = Path(\"discrete_mem/model.ckpt.index\")\n",
    "        if my_file.is_file():\n",
    "            self.saver.restore(self.sess,\"discrete_mem/model.ckpt\")\n",
    "            print(\"model restore\")\n",
    "        else:\n",
    "            print(\"start new file\")\n",
    "    \n",
    "    def build_net(self, env):\n",
    "        act_shape = 2\n",
    "        obs_shape = env.observation_space.shape[0]\n",
    "        state = tf.placeholder(tf.float32, [None, obs_shape])\n",
    "        # network structure\n",
    "        l1 = tf.layers.dense(inputs = state, units = 64, activation = tf.nn.relu, \n",
    "                             kernel_initializer = tf.random_normal_initializer(0.,.1), \n",
    "                             bias_initializer = tf.constant_initializer(0.1), name = \"policy_l1\")\n",
    "        \n",
    "        l2 = tf.layers.dense(inputs = l1, units = 32, activation = tf.nn.relu, \n",
    "                             kernel_initializer = tf.random_normal_initializer(0.,.1), \n",
    "                             bias_initializer = tf.constant_initializer(0.1), name = \"policy_l2\")\n",
    "\n",
    "        action = tf.layers.dense(inputs = l2, units = act_shape, activation = tf.nn.softmax, \n",
    "                             kernel_initializer = tf.random_normal_initializer(0.,.1), \n",
    "                             bias_initializer = tf.constant_initializer(0.1), name = \"action\")\n",
    "        \n",
    "        return state, action\n",
    "    \n",
    "    def pg_learn(self):\n",
    "        # suming reward\n",
    "        total_reward= -300\n",
    "        for i in range(len(self.reward_traj)):\n",
    "            total_reward = total_reward + self.reward_traj[i]\n",
    "        \n",
    "        total_reward = np.array([[total_reward]])\n",
    "        total_reward.astype(np.float32)\n",
    "        self.trajectory.astype(np.float32)\n",
    "        self.action_traj.astype(np.float32)\n",
    "        feed_dict = {self.state: self.trajectory, self.action_tr: self.action_traj, self.total_reward: total_reward}\n",
    "        # optimize loss\n",
    "        #print(self.sess.run(self.log_r_sum, feed_dict))\n",
    "        \n",
    "        self.sess.run(self.optimizer, feed_dict)\n",
    "        # store memory\n",
    "        self.save_freq = self.save_freq + 1 \n",
    "        if self.save_freq % 10000 == 1:\n",
    "            self.saver.save(self.sess, \"discrete_mem/model.ckpt\")\n",
    "            \n",
    "        self.trajectory = [] \n",
    "        self.reward_traj = []\n",
    "        self.action_traj = []\n",
    "    \n",
    "    def pick_action(self, obs):\n",
    "        # store sample trajectory\n",
    "        if len(self.trajectory) == 0:\n",
    "            self.trajectory = np.array([obs.tolist()])\n",
    "        else:\n",
    "            self.trajectory = np.append(self.trajectory, np.array([obs.tolist()]), 0)\n",
    "        \n",
    "        action = self.sess.run(self.action, feed_dict={self.state : np.array([obs.tolist()])})[0]\n",
    "        action = np.random.choice([0,1],p=action/np.sum(action))\n",
    "        \n",
    "        a_oneHot = np.zeros([1,2])[0]\n",
    "        a_oneHot[action] = 1\n",
    "        \n",
    "        # store action trajectory\n",
    "        if len(self.action_traj) == 0:\n",
    "            self.action_traj = np.array([a_oneHot.tolist()])\n",
    "        else:\n",
    "            self.action_traj = np.append(self.action_traj, np.array([a_oneHot.tolist()]), 0)\n",
    "        \n",
    "        return action    \n",
    "    \n",
    "    def get_reward(self, reward):\n",
    "        \n",
    "        self.reward_traj.append(reward)\n",
    "        \n",
    "    def get_parameter(self, obs):\n",
    "        print(\"mean: \", self.sess.run(self.a_mean, feed_dict={self.state : np.array([obs.tolist()])})[0], \"\\n\")\n",
    "        print(\"sigm: \", self.sess.run(self.a_sigma, feed_dict={self.state : np.array([obs.tolist()])})[0], \"\\n\")\n",
    "        "
   ]
  },
  {
   "cell_type": "markdown",
   "metadata": {},
   "source": [
    "# Sample trajectory by random policy"
   ]
  },
  {
   "cell_type": "code",
   "execution_count": 3,
   "metadata": {
    "scrolled": false
   },
   "outputs": [
    {
     "name": "stderr",
     "output_type": "stream",
     "text": [
      "[2017-09-24 22:31:26,351] Making new env: CartPole-v0\n"
     ]
    },
    {
     "name": "stdout",
     "output_type": "stream",
     "text": [
      "state: \n",
      " [ 0.03073904  0.00145001 -0.03088818 -0.03131252] \n",
      "\n",
      "action: \n",
      " 1 \n",
      "\n",
      "reward: \n",
      " 1.0 \n",
      "\n",
      "state: \n",
      " [ 0.03076804 -0.19321569 -0.03151444  0.25146705] \n",
      "\n",
      "action: \n",
      " 0 \n",
      "\n",
      "reward: \n",
      " 1.0 \n",
      "\n"
     ]
    }
   ],
   "source": [
    "env = gym.make(\"CartPole-v0\")\n",
    "env.seed(1) \n",
    "observation = env.reset()\n",
    "for _ in range(1):\n",
    "    done = False\n",
    "    count_epi = 0 \n",
    "    while done == False:\n",
    "        print (\"state: \\n\", observation,'\\n')\n",
    "        observation_, reward, done, info = env.step(env.action_space.sample())\n",
    "        print(\"action: \\n\", env.action_space.sample(), \"\\n\")\n",
    "        print(\"reward: \\n\", reward,\"\\n\")\n",
    "        observation = observation_\n",
    "        count_epi = count_epi + 1\n",
    "        if count_epi > 1:\n",
    "            done = True"
   ]
  },
  {
   "cell_type": "markdown",
   "metadata": {},
   "source": [
    "# Monte Carlo and Policy Gradient with Discrete Policy"
   ]
  },
  {
   "cell_type": "code",
   "execution_count": 4,
   "metadata": {
    "collapsed": true
   },
   "outputs": [],
   "source": [
    "def pg(itr, epi_s):\n",
    "    # environment and expert set up\n",
    "    config = tf.ConfigProto(\n",
    "        inter_op_parallelism_threads=8,\n",
    "        intra_op_parallelism_threads=8,\n",
    "        device_count = { \"GPU\": 0 } )\n",
    "    sess = tf.InteractiveSession(config=config)\n",
    "    env = gym.make(\"CartPole-v0\")\n",
    "    env = env.unwrapped\n",
    "    render = False\n",
    "    env.seed(1)\n",
    "    agent = learning_agent(env) \n",
    "    q = 0\n",
    "    run_avg = 0\n",
    "    for _ in range(itr):\n",
    "        sc = 0\n",
    "        observation = env.reset()\n",
    "        done = False\n",
    "        count_epi = 0 \n",
    "        # start new episodes\n",
    "        while done == False:\n",
    "            if render:\n",
    "                env.render()\n",
    "                \n",
    "            action = agent.pick_action(observation) # collect traj and agent current policy\n",
    "            observation_, reward, done, info = env.step(action)\n",
    "            sc = sc + reward\n",
    "            agent.get_reward(reward)\n",
    "            observation = observation_\n",
    "            # start new epi if perform step larger than epi_s\n",
    "            count_epi = count_epi + 1\n",
    "            if count_epi > epi_s:\n",
    "                done = True\n",
    "            #print(action)\n",
    "        q = q + 1\n",
    "        if q%100==1:\n",
    "            print(\"metirc: \", run_avg, \"\\n\")\n",
    "        # perform learning based on current data\n",
    "        agent.pg_learn()\n",
    "        if sc > 100:\n",
    "            render = False\n",
    "            \n",
    "        run_avg = run_avg* 0.95+0.05*sc\n",
    "    return agent"
   ]
  },
  {
   "cell_type": "code",
   "execution_count": 5,
   "metadata": {
    "scrolled": false
   },
   "outputs": [
    {
     "name": "stderr",
     "output_type": "stream",
     "text": [
      "[2017-09-24 22:31:26,503] Making new env: CartPole-v0\n"
     ]
    },
    {
     "name": "stdout",
     "output_type": "stream",
     "text": [
      "INFO:tensorflow:Restoring parameters from discrete_mem/model.ckpt\n"
     ]
    },
    {
     "name": "stderr",
     "output_type": "stream",
     "text": [
      "[2017-09-24 22:31:26,817] Restoring parameters from discrete_mem/model.ckpt\n"
     ]
    },
    {
     "name": "stdout",
     "output_type": "stream",
     "text": [
      "model restore\n",
      "metirc:  0 \n",
      "\n",
      "metirc:  21.31636858838623 \n",
      "\n",
      "metirc:  30.19934138226741 \n",
      "\n",
      "metirc:  33.78688403250608 \n",
      "\n",
      "metirc:  64.09221703812656 \n",
      "\n",
      "metirc:  107.46098126439628 \n",
      "\n",
      "metirc:  135.43292237472554 \n",
      "\n",
      "metirc:  336.869276919681 \n",
      "\n",
      "metirc:  506.2863129031171 \n",
      "\n",
      "metirc:  486.2004574532918 \n",
      "\n"
     ]
    }
   ],
   "source": [
    "agent = pg(1000,600)"
   ]
  },
  {
   "cell_type": "markdown",
   "metadata": {},
   "source": [
    "agent.mean_check.astype(np.float64)\n",
    "agent.sig_check.astype(np.float64)\n",
    "a = tf.contrib.distributions.Normal(loc = agent.mean_check, scale = agent.sig_check)"
   ]
  },
  {
   "cell_type": "markdown",
   "metadata": {},
   "source": [
    "agent.action_traj.astype(np.float64)\n",
    "action_tr = tf.placeholder(tf.float32, [None, env.action_space.shape[0]])\n",
    "tf.Session().run(a.prob(action_tr), {action_tr: agent.action_traj})"
   ]
  },
  {
   "cell_type": "markdown",
   "metadata": {},
   "source": [
    "import pandas as pd\n",
    "pd.DataFrame(agent.mean_check)"
   ]
  },
  {
   "cell_type": "markdown",
   "metadata": {},
   "source": [
    "pd.DataFrame(agent.sig_check)"
   ]
  },
  {
   "cell_type": "code",
   "execution_count": null,
   "metadata": {
    "collapsed": true
   },
   "outputs": [],
   "source": []
  }
 ],
 "metadata": {
  "kernelspec": {
   "display_name": "Python 3",
   "language": "python",
   "name": "python3"
  },
  "language_info": {
   "codemirror_mode": {
    "name": "ipython",
    "version": 3
   },
   "file_extension": ".py",
   "mimetype": "text/x-python",
   "name": "python",
   "nbconvert_exporter": "python",
   "pygments_lexer": "ipython3",
   "version": "3.6.1"
  }
 },
 "nbformat": 4,
 "nbformat_minor": 2
}
