{
 "cells": [
  {
   "cell_type": "code",
   "execution_count": 1,
   "metadata": {
    "collapsed": true
   },
   "outputs": [],
   "source": [
    "import gym \n",
    "import numpy as np\n",
    "import tensorflow as tf\n",
    "from pathlib import Path"
   ]
  },
  {
   "cell_type": "code",
   "execution_count": 2,
   "metadata": {},
   "outputs": [],
   "source": [
    "class learning_agent(object):\n",
    "    def __init__(self, env):\n",
    "        self.env = env\n",
    "        # agent memory\n",
    "        self.trajectory = [] # seq of state, union of state\n",
    "        self.temporary_traj = [] # store new comming unlabel seq\n",
    "        self.expert_action_history = [] # seq of expert action, union of action\n",
    "        self.save_freq = 0\n",
    "        # define network structure (state input and action output)\n",
    "        self.state, self.action =  self.build_net(self.env)\n",
    "        # trajectory and regression \n",
    "        self.expert_action = tf.placeholder(tf.float32, [None, self.env.action_space.shape[0]])\n",
    "        self.loss = tf.losses.mean_squared_error(self.expert_action, self.action)\n",
    "        self.optimizer = tf.train.AdamOptimizer(0.01).minimize(self.loss)\n",
    "        # start session\n",
    "        self.sess = tf.Session()\n",
    "        self.saver=tf.train.Saver()\n",
    "        self.sess.run(tf.global_variables_initializer())\n",
    "        # check memory existance\n",
    "        my_file = Path(\"tmp/model.ckpt.index\")\n",
    "        if my_file.is_file():\n",
    "            self.saver.restore(self.sess,\"tmp/model.ckpt\")\n",
    "            print(\"model restore\")\n",
    "        else:\n",
    "            print(\"start new file\")\n",
    "    \n",
    "    def build_net(self, env):\n",
    "        act_shape = env.action_space.shape[0]\n",
    "        obs_shape = env.observation_space.shape[0]\n",
    "        state = tf.placeholder(tf.float32, [None, obs_shape])\n",
    "        # network structure\n",
    "        l1 = tf.layers.dense(inputs = state, units = 50, activation = tf.nn.relu, \n",
    "                             kernel_initializer = tf.random_normal_initializer(0.,.1), \n",
    "                             bias_initializer = tf.constant_initializer(0.1), name = \"policy_l1\")\n",
    "        \n",
    "        l2 = tf.layers.dense(inputs = l1, units = 20, activation = tf.nn.relu, \n",
    "                             kernel_initializer = tf.random_normal_initializer(0.,.1), \n",
    "                             bias_initializer = tf.constant_initializer(0.1), name = \"policy_l2\")\n",
    "        \n",
    "        action = tf.layers.dense(inputs = l1, units = act_shape, activation = tf.nn.tanh, \n",
    "                             kernel_initializer = tf.random_normal_initializer(0.,.1), \n",
    "                             bias_initializer = tf.constant_initializer(0.1), name = \"action\")\n",
    "        \n",
    "        scale_action = tf.multiply(action, np.array([env.action_space.high.tolist()]), name = \"scale_action\")\n",
    "        return state, scale_action\n",
    "    \n",
    "    def imitation_learn(self):\n",
    "        feed_dict = {self.state: self.trajectory, self.expert_action: self.expert_action_history}\n",
    "        # optimize loss\n",
    "        for i in range(500):\n",
    "            self.sess.run(self.optimizer, feed_dict)\n",
    "            if i % 499 == 0:\n",
    "                print(\"difference in policy: \", self.sess.run(self.loss, feed_dict))\n",
    "        \n",
    "        self.save_freq = self.save_freq + 1 \n",
    "        if self.save_freq % 50 == 1:\n",
    "            self.saver.save(self.sess, \"tmp/model.ckpt\")\n",
    "\n",
    "    def expert_label(self, expert):\n",
    "        for i in range(len(self.temporary_traj)):\n",
    "            if len(self.expert_action_history) == 0:\n",
    "                self.expert_action_history = np.array([expert.act(self.temporary_traj[i,:]).tolist()])\n",
    "            else:\n",
    "                self.expert_action_history = np.append(self.expert_action_history,\n",
    "                                                       np.array([expert.act(self.temporary_traj[i,:]).tolist()]),0)\n",
    "        # data aggregate\n",
    "        if len(self.trajectory) == 0:\n",
    "            self.trajectory = self.temporary_traj\n",
    "        else:\n",
    "            self.trajectory = np.append(self.trajectory, self.temporary_traj,0)\n",
    "        \n",
    "        self.temporary_traj = [] # temporary memeory clear to zero\n",
    "    \n",
    "    def pick_action(self, obs):\n",
    "        # store temporal obs\n",
    "        if len(self.temporary_traj) == 0:\n",
    "            self.temporary_traj = np.array([obs.tolist()])\n",
    "        else:\n",
    "            self.temporary_traj = np.append(self.temporary_traj, np.array([obs.tolist()]), 0)\n",
    "            \n",
    "        #print(self.sess.run(self.action, feed_dict={self.state : np.array([obs.tolist()])}))\n",
    "        return self.sess.run(self.action, feed_dict={self.state : np.array([obs.tolist()])})[0]       "
   ]
  },
  {
   "cell_type": "code",
   "execution_count": 3,
   "metadata": {
    "collapsed": true
   },
   "outputs": [],
   "source": [
    "class expert(object):\n",
    "    def __init__(self, env):\n",
    "        self.env = env\n",
    "        \n",
    "    def act(self, obs):\n",
    "        return self.env.action_space.sample()"
   ]
  },
  {
   "cell_type": "code",
   "execution_count": 4,
   "metadata": {
    "scrolled": true
   },
   "outputs": [
    {
     "name": "stderr",
     "output_type": "stream",
     "text": [
      "[2017-09-19 09:50:28,836] Making new env: Pendulum-v0\n"
     ]
    },
    {
     "name": "stdout",
     "output_type": "stream",
     "text": [
      "start new file\n",
      "sum of score:  -1232.57727621\n",
      "difference in policy:  1.28678\n",
      "difference in policy:  0.953069\n",
      "sum of score:  -1276.15545997\n",
      "difference in policy:  1.51011\n",
      "difference in policy:  1.11669\n",
      "sum of score:  -1285.64930045\n",
      "difference in policy:  1.27066\n",
      "difference in policy:  1.1955\n",
      "sum of score:  -1359.33047099\n",
      "difference in policy:  1.23966\n",
      "difference in policy:  1.18626\n"
     ]
    }
   ],
   "source": [
    "env = gym.make('Pendulum-v0')\n",
    "env.seed(1)\n",
    "pi = expert(env)\n",
    "agent = learning_agent(env)\n",
    "for _ in range(4):\n",
    "    score = 0\n",
    "    observation = env.reset()\n",
    "    done = False\n",
    "    while done == False:\n",
    "        env.render()\n",
    "        action = agent.pick_action(observation) # collect traj and agent current policy\n",
    "        #print(action)\n",
    "        observation_, reward, done, info = env.step(action)\n",
    "        score = score + reward\n",
    "        observation = observation_\n",
    "    \n",
    "    print(\"sum of score: \", score)\n",
    "    agent.expert_label(pi) # ask expert to label data\n",
    "    agent.imitation_learn() # imitation learning"
   ]
  },
  {
   "cell_type": "code",
   "execution_count": null,
   "metadata": {
    "collapsed": true
   },
   "outputs": [],
   "source": []
  }
 ],
 "metadata": {
  "kernelspec": {
   "display_name": "Python 3",
   "language": "python",
   "name": "python3"
  },
  "language_info": {
   "codemirror_mode": {
    "name": "ipython",
    "version": 3
   },
   "file_extension": ".py",
   "mimetype": "text/x-python",
   "name": "python",
   "nbconvert_exporter": "python",
   "pygments_lexer": "ipython3",
   "version": "3.6.1"
  }
 },
 "nbformat": 4,
 "nbformat_minor": 2
}
