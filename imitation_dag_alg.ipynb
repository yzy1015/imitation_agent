{
 "cells": [
  {
   "cell_type": "code",
   "execution_count": 1,
   "metadata": {
    "collapsed": true
   },
   "outputs": [],
   "source": [
    "import os.path, gym\n",
    "import numpy as np\n",
    "os.environ['TF_CPP_MIN_LOG_LEVEL'] = '3'\n",
    "import tensorflow as tf\n",
    "import roboschool\n",
    "from pathlib import Path"
   ]
  },
  {
   "cell_type": "markdown",
   "metadata": {},
   "source": [
    "# Loading expert agent"
   ]
  },
  {
   "cell_type": "code",
   "execution_count": 2,
   "metadata": {
    "collapsed": true
   },
   "outputs": [],
   "source": [
    "from expert1 import *"
   ]
  },
  {
   "cell_type": "markdown",
   "metadata": {},
   "source": [
    "# Design imitation agent"
   ]
  },
  {
   "cell_type": "code",
   "execution_count": 3,
   "metadata": {
    "collapsed": true
   },
   "outputs": [],
   "source": [
    "class learning_agent(object):\n",
    "    def __init__(self, env):\n",
    "        self.env = env\n",
    "        # agent memory\n",
    "        self.trajectory = [] # seq of state, union of state\n",
    "        self.temporary_traj = [] # store new comming unlabel seq\n",
    "        self.expert_action_history = [] # seq of expert action, union of action\n",
    "        self.save_freq = 0\n",
    "        # define network structure (state input and action output)\n",
    "        self.state, self.action =  self.build_net(self.env)\n",
    "        # trajectory and regression \n",
    "        self.expert_action = tf.placeholder(tf.float32, [None, self.env.action_space.shape[0]])\n",
    "        self.loss = tf.losses.mean_squared_error(self.expert_action, self.action)\n",
    "        self.optimizer = tf.train.AdamOptimizer(0.001).minimize(self.loss)\n",
    "        # start session\n",
    "        self.sess = tf.Session()\n",
    "        self.saver=tf.train.Saver()\n",
    "        self.sess.run(tf.global_variables_initializer())\n",
    "        # check memory existance\n",
    "        my_file = Path(\"memory/model.ckpt.index\")\n",
    "        if my_file.is_file():\n",
    "            self.saver.restore(self.sess,\"memory/model.ckpt\")\n",
    "            print(\"model restore\")\n",
    "        else:\n",
    "            print(\"start new file\")\n",
    "    \n",
    "    def build_net(self, env):\n",
    "        act_shape = env.action_space.shape[0]\n",
    "        obs_shape = env.observation_space.shape[0]\n",
    "        state = tf.placeholder(tf.float32, [None, obs_shape])\n",
    "        # network structure\n",
    "        l1 = tf.layers.dense(inputs = state, units = 128, activation = tf.nn.relu, \n",
    "                             kernel_initializer = tf.random_normal_initializer(0.,.1), \n",
    "                             bias_initializer = tf.constant_initializer(0.1), name = \"policy_l1\")\n",
    "        \n",
    "        l2 = tf.layers.dense(inputs = l1, units = 64, activation = tf.nn.relu, \n",
    "                             kernel_initializer = tf.random_normal_initializer(0.,.1), \n",
    "                             bias_initializer = tf.constant_initializer(0.1), name = \"policy_l2\")\n",
    "        \n",
    "        action = tf.layers.dense(inputs = l1, units = act_shape, activation = tf.nn.tanh, \n",
    "                             kernel_initializer = tf.random_normal_initializer(0.,.1), \n",
    "                             bias_initializer = tf.constant_initializer(0.1), name = \"action\")\n",
    "\n",
    "        scale_action = tf.multiply(action, np.array([env.action_space.high.tolist()]), name = \"scale_action\")\n",
    "        return state, scale_action\n",
    "    \n",
    "    def imitation_learn(self):\n",
    "        feed_dict = {self.state: self.trajectory, self.expert_action: self.expert_action_history}\n",
    "        # optimize loss\n",
    "        for i in range(800):\n",
    "            self.sess.run(self.optimizer, feed_dict)\n",
    "            if i % 499 == 0:\n",
    "                if i == 0:\n",
    "                    print(\"initial cost: \",self.sess.run(self.loss, feed_dict))\n",
    "                else:\n",
    "                    print(\"final cost:   \",self.sess.run(self.loss, feed_dict))\n",
    "        \n",
    "        self.save_freq = self.save_freq + 1 \n",
    "        if self.save_freq % 300 == 1:\n",
    "            self.saver.save(self.sess, \"memory/model.ckpt\")\n",
    "\n",
    "    def expert_label(self, expert):\n",
    "        for i in range(len(self.temporary_traj)):\n",
    "            if len(self.expert_action_history) == 0:\n",
    "                self.expert_action_history = np.array([expert.act(self.temporary_traj[i,:], self.env).tolist()])\n",
    "            else:\n",
    "                self.expert_action_history = np.append(self.expert_action_history,\n",
    "                                                       np.array([expert.act(self.temporary_traj[i,:], \n",
    "                                                                            self.env).tolist()]),0)\n",
    "        # data aggregate\n",
    "        if len(self.trajectory) == 0:\n",
    "            self.trajectory = self.temporary_traj\n",
    "        else:\n",
    "            self.trajectory = np.append(self.trajectory, self.temporary_traj,0)\n",
    "        \n",
    "        self.temporary_traj = [] # temporary memeory clear to zero\n",
    "    \n",
    "    def pick_action(self, obs):\n",
    "        # store temporal obs\n",
    "        if len(self.temporary_traj) == 0:\n",
    "            self.temporary_traj = np.array([obs.tolist()])\n",
    "        else:\n",
    "            self.temporary_traj = np.append(self.temporary_traj, np.array([obs.tolist()]), 0)\n",
    "            \n",
    "        return self.sess.run(self.action, feed_dict={self.state : np.array([obs.tolist()])})[0]  "
   ]
  },
  {
   "cell_type": "markdown",
   "metadata": {},
   "source": [
    "# imitate expert action"
   ]
  },
  {
   "cell_type": "code",
   "execution_count": null,
   "metadata": {
    "collapsed": true
   },
   "outputs": [],
   "source": [
    "def imitation(itr, epi_s):\n",
    "    # environment and expert set up\n",
    "    config = tf.ConfigProto(\n",
    "        inter_op_parallelism_threads=1,\n",
    "        intra_op_parallelism_threads=1,\n",
    "        device_count = { \"GPU\": 0 } )\n",
    "    sess = tf.InteractiveSession(config=config)\n",
    "    env = gym.make(\"RoboschoolAnt-v1\")\n",
    "    pi = ZooPolicyTensorflow(\"mymodel1\", env.observation_space, env.action_space)\n",
    "    agent = learning_agent(env) \n",
    "    for _ in range(itr):\n",
    "        sc = 0\n",
    "        observation = env.reset()\n",
    "        done = False\n",
    "        count_epi = 0 \n",
    "\n",
    "        while done == False:\n",
    "            action = agent.pick_action(observation) # collect traj and agent current policy\n",
    "            observation_, reward, done, info = env.step(action)\n",
    "            sc = sc + reward\n",
    "            observation = observation_\n",
    "\n",
    "            count_epi = count_epi + 1\n",
    "            if count_epi > epi_s:\n",
    "                done = True\n",
    "\n",
    "        \n",
    "        print(\"cumulative socre: \", sc)\n",
    "        agent.expert_label(pi) # ask expert to label data\n",
    "        agent.imitation_learn() # imitation learning\n",
    "        print(\" \")"
   ]
  },
  {
   "cell_type": "code",
   "execution_count": null,
   "metadata": {
    "scrolled": false
   },
   "outputs": [
    {
     "name": "stderr",
     "output_type": "stream",
     "text": [
      "[2017-09-21 06:15:14,508] Making new env: RoboschoolAnt-v1\n"
     ]
    },
    {
     "name": "stdout",
     "output_type": "stream",
     "text": [
      "INFO:tensorflow:Restoring parameters from memory/model.ckpt\n"
     ]
    },
    {
     "name": "stderr",
     "output_type": "stream",
     "text": [
      "[2017-09-21 06:15:14,852] Restoring parameters from memory/model.ckpt\n"
     ]
    },
    {
     "name": "stdout",
     "output_type": "stream",
     "text": [
      "model restore\n",
      "cumulative socre:  -128.24372312006315\n",
      "initial cost:  8.36126\n",
      "final cost:    4.29493\n",
      " \n",
      "cumulative socre:  -26.82303733246082\n",
      "initial cost:  3.73577\n",
      "final cost:    2.48827\n",
      " \n",
      "cumulative socre:  144.07803698030042\n",
      "initial cost:  3.16901\n",
      "final cost:    2.31962\n",
      " \n",
      "cumulative socre:  392.10155005651325\n",
      "initial cost:  1.78622\n",
      "final cost:    1.74355\n",
      " \n",
      "cumulative socre:  442.8480729926618\n",
      "initial cost:  1.54794\n",
      "final cost:    1.4181\n",
      " \n",
      "cumulative socre:  467.2443330571217\n",
      "initial cost:  1.25657\n",
      "final cost:    1.19498\n",
      " \n",
      "cumulative socre:  408.1150816164153\n",
      "initial cost:  1.06481\n",
      "final cost:    1.02851\n",
      " \n",
      "cumulative socre:  538.897613373655\n",
      "initial cost:  0.915832\n",
      "final cost:    0.900813\n",
      " \n",
      "cumulative socre:  453.18675589153736\n",
      "initial cost:  0.845488\n",
      "final cost:    0.806524\n",
      " \n",
      "cumulative socre:  520.5569512682487\n",
      "initial cost:  0.735488\n",
      "final cost:    0.725822\n",
      " \n",
      "cumulative socre:  529.390553710573\n",
      "initial cost:  0.668718\n",
      "final cost:    0.661394\n",
      " \n",
      "cumulative socre:  638.9192590024409\n",
      "initial cost:  0.614472\n",
      "final cost:    0.607341\n",
      " \n",
      "cumulative socre:  527.8030184268945\n",
      "initial cost:  0.57513\n",
      "final cost:    0.56255\n",
      " \n",
      "cumulative socre:  812.9828946064475\n",
      "initial cost:  0.534161\n"
     ]
    }
   ],
   "source": [
    "imitation(80,500)"
   ]
  }
 ],
 "metadata": {
  "kernelspec": {
   "display_name": "Python 3",
   "language": "python",
   "name": "python3"
  },
  "language_info": {
   "codemirror_mode": {
    "name": "ipython",
    "version": 3
   },
   "file_extension": ".py",
   "mimetype": "text/x-python",
   "name": "python",
   "nbconvert_exporter": "python",
   "pygments_lexer": "ipython3",
   "version": "3.6.1"
  }
 },
 "nbformat": 4,
 "nbformat_minor": 2
}
